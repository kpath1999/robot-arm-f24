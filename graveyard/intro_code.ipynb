{
  "nbformat": 4,
  "nbformat_minor": 0,
  "metadata": {
    "colab": {
      "provenance": []
    },
    "kernelspec": {
      "name": "python3",
      "display_name": "Python 3"
    },
    "language_info": {
      "name": "python"
    }
  },
  "cells": [
    {
      "cell_type": "code",
      "execution_count": 1,
      "metadata": {
        "id": "pzCnlNOGGgLc"
      },
      "outputs": [],
      "source": [
        "!pip install pybullet --quiet"
      ]
    },
    {
      "cell_type": "code",
      "source": [
        "import os\n",
        "import pybullet as p\n",
        "import time\n",
        "import pybullet_data"
      ],
      "metadata": {
        "id": "1ym4O-bOGqAJ"
      },
      "execution_count": 2,
      "outputs": []
    },
    {
      "cell_type": "code",
      "source": [
        "from google.colab import drive\n",
        "drive.mount('/content/drive')"
      ],
      "metadata": {
        "colab": {
          "base_uri": "https://localhost:8080/"
        },
        "id": "5ORILilnHbwr",
        "outputId": "b79f0873-f669-4220-fcb5-4ac685d0907c"
      },
      "execution_count": 3,
      "outputs": [
        {
          "output_type": "stream",
          "name": "stdout",
          "text": [
            "Drive already mounted at /content/drive; to attempt to forcibly remount, call drive.mount(\"/content/drive\", force_remount=True).\n"
          ]
        }
      ]
    },
    {
      "cell_type": "code",
      "source": [
        "physicsClient = p.connect(p.DIRECT)\n",
        "p.setAdditionalSearchPath(pybullet_data.getDataPath())\n",
        "p.setGravity(0, 0, -10)\n",
        "planeId = p.loadURDF(\"plane.urdf\")"
      ],
      "metadata": {
        "id": "7bDOj0tdGt6r"
      },
      "execution_count": 4,
      "outputs": []
    },
    {
      "cell_type": "code",
      "source": [
        "startPos = [0,0,0]\n",
        "startOrientation = p.getQuaternionFromEuler([0,0,0])\n",
        "boxId = p.loadURDF(\"/content/drive/My Drive/MSCS/AdvML/urdf_files/robot_arm.urdf\", startPos, startOrientation)"
      ],
      "metadata": {
        "id": "KW2nwDX4G111"
      },
      "execution_count": 8,
      "outputs": []
    },
    {
      "cell_type": "code",
      "source": [
        "for i in range (10000):\n",
        "    p.stepSimulation()\n",
        "    time.sleep(1./240.)\n",
        "cubePos, cubeOrn = p.getBasePositionAndOrientation(boxId)\n",
        "print(cubePos,cubeOrn)\n",
        "p.disconnect()"
      ],
      "metadata": {
        "colab": {
          "base_uri": "https://localhost:8080/"
        },
        "id": "rEos4LyiHW6i",
        "outputId": "acf82392-9e9b-402c-dc11-82420fc7c570"
      },
      "execution_count": 9,
      "outputs": [
        {
          "output_type": "stream",
          "name": "stdout",
          "text": [
            "(-0.011683025251212283, 0.002849298306587965, -9.830137630051135e-06) (-2.0401157467135268e-07, 1.3670506570101033e-06, 0.13123360122495556, 0.9913514724393255)\n"
          ]
        }
      ]
    }
  ]
}